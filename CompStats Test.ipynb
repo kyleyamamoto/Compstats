{
 "cells": [
  {
   "cell_type": "code",
   "execution_count": null,
   "metadata": {
    "collapsed": false
   },
   "outputs": [],
   "source": [
    "'''\n",
    "# convert xls to xlsx\n",
    "# top level merge them together\n",
    "# print confirmation once program is finished running\n",
    "'''\n",
    "\n",
    "# Download appropriate libraries\n",
    "import pandas as pd\n",
    "import numpy as np\n",
    "import matplotlib.pyplot as plt\n",
    "import os\n",
    "import seaborn as sns\n",
    "import plotly.plotly as py\n",
    "import plotly.graph_objs as go\n",
    "'''\n",
    "import data\n",
    "\n",
    "'''\n",
    "path = 'C:\\\\Users\\\\389273\\\\Documents'\n",
    "file = pd.read_csv(path+'\\\\Combined PC Data.csv', low_memory=False)\n",
    "\n",
    "df = pd.DataFrame(file) #Build dataframe from csv\n",
    "\n",
    "df = df[['fms_department','authority','job_class','job_class_title','status','status_reason','vacant_date','filled_date']]\n",
    "# Extract only necessary columns\n",
    "department_name = {\n",
    "    2: 'Aging',\n",
    "    6: 'Animal Services',\n",
    "    8: 'Building and Safety',\n",
    "    22: 'EWDD',\n",
    "    30: 'Cultural Affairs',\n",
    "    32: 'Information Technology Agency',\n",
    "    33: 'El Pueblo',\n",
    "    35: 'Emergency Management',\n",
    "    39: 'Finance',\n",
    "    40: 'General Services',\n",
    "    43: 'Housing',\n",
    "    47: 'Neighborhood Empowerment',\n",
    "    48: 'Convention Center',\n",
    "    65: 'Disability',\n",
    "    66: 'Personnel',\n",
    "    68: 'Planning',\n",
    "    74: 'Public Works - Board', \n",
    "    76: 'Public Works - Contract Admin',\n",
    "    78: 'Public Works - Engineering',\n",
    "    82: 'Public Works - Sanitation',\n",
    "    84: 'Public Works - Street Lighting',\n",
    "    86: 'Public Works - Street Services',\n",
    "    94: 'Transportation' \n",
    "    }\n",
    "df2 = df.rename(columns={'fms_department': 'department_name'})\n",
    "#switch fms_department number with department name\n",
    "new_dat = df2.replace({'department_name': department_name})\n",
    "#update column name \n",
    "new_dat = new_dat[~new_dat.status.str.match('Deleted')]\n",
    "#new_dat = new_dat[~new_dat.status.str.match('Unassigned')]\n",
    "new_dat.head()"
   ]
  },
  {
   "cell_type": "code",
   "execution_count": 3,
   "metadata": {
    "collapsed": false,
    "scrolled": true
   },
   "outputs": [
    {
     "ename": "TypeError",
     "evalue": "bar() missing 2 required positional arguments: 'left' and 'height'",
     "output_type": "error",
     "traceback": [
      "\u001b[0;31m---------------------------------------------------------------------------\u001b[0m",
      "\u001b[0;31mTypeError\u001b[0m                                 Traceback (most recent call last)",
      "\u001b[0;32m<ipython-input-3-a45bc5409cda>\u001b[0m in \u001b[0;36m<module>\u001b[0;34m()\u001b[0m\n\u001b[1;32m      9\u001b[0m \u001b[0mx\u001b[0m \u001b[1;33m=\u001b[0m \u001b[0mnew_dat\u001b[0m\u001b[1;33m.\u001b[0m\u001b[0mstatus\u001b[0m\u001b[1;33m.\u001b[0m\u001b[0mstr\u001b[0m\u001b[1;33m.\u001b[0m\u001b[0mmatch\u001b[0m\u001b[1;33m(\u001b[0m\u001b[1;34m'Vacant'\u001b[0m\u001b[1;33m)\u001b[0m\u001b[1;33m.\u001b[0m\u001b[0mvalue_counts\u001b[0m\u001b[1;33m(\u001b[0m\u001b[1;33m)\u001b[0m\u001b[1;33m\u001b[0m\u001b[0m\n\u001b[1;32m     10\u001b[0m \u001b[1;33m\u001b[0m\u001b[0m\n\u001b[0;32m---> 11\u001b[0;31m \u001b[0mplt\u001b[0m\u001b[1;33m.\u001b[0m\u001b[0mbar\u001b[0m\u001b[1;33m(\u001b[0m\u001b[1;33m)\u001b[0m\u001b[1;33m\u001b[0m\u001b[0m\n\u001b[0m",
      "\u001b[0;31mTypeError\u001b[0m: bar() missing 2 required positional arguments: 'left' and 'height'"
     ]
    }
   ],
   "source": [
    "'''\n",
    "y axis = job class title\n",
    "x axis = count \n",
    "title = vacant positions \n",
    "ylabel = job class title\n",
    "xlabel = # of vacant positions\n",
    "'''\n",
    "y = new_dat['department_name']\n",
    "x = new_dat.status.str.match('Vacant').value_counts()\n",
    "\n",
    "plt.bar()\n"
   ]
  }
 ],
 "metadata": {
  "kernelspec": {
   "display_name": "Python 3",
   "language": "python",
   "name": "python3"
  },
  "language_info": {
   "codemirror_mode": {
    "name": "ipython",
    "version": 3
   },
   "file_extension": ".py",
   "mimetype": "text/x-python",
   "name": "python",
   "nbconvert_exporter": "python",
   "pygments_lexer": "ipython3",
   "version": "3.6.0"
  }
 },
 "nbformat": 4,
 "nbformat_minor": 2
}
